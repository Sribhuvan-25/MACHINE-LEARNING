{
 "cells": [
  {
   "cell_type": "code",
   "execution_count": 1,
   "id": "29ff9875",
   "metadata": {},
   "outputs": [],
   "source": [
    "import pandas as pd\n",
    "import numpy as np\n",
    "from sklearn.impute import MissingIndicator\n",
    "# MissingIndicator allows to see the locations of teh data points\n",
    "# that were missing and were replaced by respective imputers."
   ]
  },
  {
   "cell_type": "code",
   "execution_count": 7,
   "id": "749f49a7",
   "metadata": {},
   "outputs": [
    {
     "data": {
      "text/plain": [
       "array([[False, False, False],\n",
       "       [False,  True, False],\n",
       "       [ True, False,  True]])"
      ]
     },
     "execution_count": 7,
     "metadata": {},
     "output_type": "execute_result"
    }
   ],
   "source": [
    "indicator = MissingIndicator(missing_values=-1)\n",
    "features = [[4,2,1],\n",
    "           [24,-1,4],\n",
    "           [-1,4,-1]]\n",
    "mark_missing_values = indicator.fit_transform(features)\n",
    "mark_missing_values"
   ]
  },
  {
   "cell_type": "code",
   "execution_count": null,
   "id": "06c62a2c",
   "metadata": {},
   "outputs": [],
   "source": [
    "indicator = MissingIndicator(missing_values=-1,)\n",
    "mark_missing_values = indicator.fit_transform(features)"
   ]
  }
 ],
 "metadata": {
  "kernelspec": {
   "display_name": "Python 3",
   "language": "python",
   "name": "python3"
  },
  "language_info": {
   "codemirror_mode": {
    "name": "ipython",
    "version": 3
   },
   "file_extension": ".py",
   "mimetype": "text/x-python",
   "name": "python",
   "nbconvert_exporter": "python",
   "pygments_lexer": "ipython3",
   "version": "3.8.8"
  }
 },
 "nbformat": 4,
 "nbformat_minor": 5
}
