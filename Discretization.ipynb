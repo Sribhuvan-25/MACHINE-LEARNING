{
 "cells": [
  {
   "cell_type": "code",
   "execution_count": 11,
   "id": "8a35b824",
   "metadata": {},
   "outputs": [],
   "source": [
    "import pandas as pd\n",
    "import numpy as np"
   ]
  },
  {
   "cell_type": "code",
   "execution_count": 4,
   "id": "802c2798",
   "metadata": {},
   "outputs": [
    {
     "data": {
      "text/plain": [
       "[(-11.025, -4.75], (1.5, 7.75], (-4.75, 1.5], (-11.025, -4.75], (7.75, 14.0], (1.5, 7.75], (7.75, 14.0]]\n",
       "Categories (4, interval[float64]): [(-11.025, -4.75] < (-4.75, 1.5] < (1.5, 7.75] < (7.75, 14.0]]"
      ]
     },
     "execution_count": 4,
     "metadata": {},
     "output_type": "execute_result"
    }
   ],
   "source": [
    "X=np.array([-7,2,-3,-11,14,6,8])\n",
    "# Bucketizing the array into 4 parts\n",
    "categories = pd.cut(X,4)\n",
    "categories"
   ]
  },
  {
   "cell_type": "code",
   "execution_count": 5,
   "id": "3482e0d3",
   "metadata": {},
   "outputs": [
    {
     "data": {
      "text/plain": [
       "IntervalIndex([(-11.025, -4.75], (-4.75, 1.5], (1.5, 7.75], (7.75, 14.0]],\n",
       "              closed='right',\n",
       "              dtype='interval[float64]')"
      ]
     },
     "execution_count": 5,
     "metadata": {},
     "output_type": "execute_result"
    }
   ],
   "source": [
    "categories.categories"
   ]
  },
  {
   "cell_type": "code",
   "execution_count": 6,
   "id": "f45fc9b1",
   "metadata": {},
   "outputs": [
    {
     "data": {
      "text/plain": [
       "array([0, 2, 1, 0, 3, 2, 3], dtype=int8)"
      ]
     },
     "execution_count": 6,
     "metadata": {},
     "output_type": "execute_result"
    }
   ],
   "source": [
    "# Shows in which bucket is each value of the array in\n",
    "categories.codes"
   ]
  },
  {
   "cell_type": "code",
   "execution_count": 8,
   "id": "3bfb94a9",
   "metadata": {},
   "outputs": [
    {
     "data": {
      "text/plain": [
       "['good', 'poor', 'average', 'excellent', 'excellent', 'poor', 'excellent']\n",
       "Categories (4, object): ['poor' < 'average' < 'good' < 'excellent']"
      ]
     },
     "execution_count": 8,
     "metadata": {},
     "output_type": "execute_result"
    }
   ],
   "source": [
    "marks = np.array([70,20,40,80,90,10,100])\n",
    "categories, bins = pd.cut(marks,4,retbins=True, labels=['poor','average','good','excellent'])\n",
    "categories"
   ]
  },
  {
   "cell_type": "code",
   "execution_count": 13,
   "id": "61e367e8",
   "metadata": {},
   "outputs": [],
   "source": [
    "from sklearn.preprocessing import KBinsDiscretizer"
   ]
  },
  {
   "cell_type": "code",
   "execution_count": 17,
   "id": "333997a7",
   "metadata": {},
   "outputs": [
    {
     "data": {
      "text/plain": [
       "array([[2.],\n",
       "       [0.],\n",
       "       [1.],\n",
       "       [3.],\n",
       "       [3.],\n",
       "       [0.],\n",
       "       [3.]])"
      ]
     },
     "execution_count": 17,
     "metadata": {},
     "output_type": "execute_result"
    }
   ],
   "source": [
    "marks = [[70],[20],[40],[80],[90],[10],[100]]\n",
    "encoder = KBinsDiscretizer(n_bins=4, encode='ordinal',strategy='uniform')\n",
    "encoder.fit_transform(marks)"
   ]
  },
  {
   "cell_type": "code",
   "execution_count": 19,
   "id": "ca75f134",
   "metadata": {},
   "outputs": [
    {
     "data": {
      "text/plain": [
       "array([array([ 10. ,  32.5,  55. ,  77.5, 100. ])], dtype=object)"
      ]
     },
     "execution_count": 19,
     "metadata": {},
     "output_type": "execute_result"
    }
   ],
   "source": [
    "# Egdes of each bin\n",
    "encoder.bin_edges_"
   ]
  },
  {
   "cell_type": "code",
   "execution_count": 21,
   "id": "f614ed9d",
   "metadata": {},
   "outputs": [],
   "source": [
    "# This can be used to recreate the orginal points\n",
    "# encoder.inverse_transform()"
   ]
  },
  {
   "cell_type": "code",
   "execution_count": 24,
   "id": "0b922f6a",
   "metadata": {},
   "outputs": [
    {
     "data": {
      "text/html": [
       "<div>\n",
       "<style scoped>\n",
       "    .dataframe tbody tr th:only-of-type {\n",
       "        vertical-align: middle;\n",
       "    }\n",
       "\n",
       "    .dataframe tbody tr th {\n",
       "        vertical-align: top;\n",
       "    }\n",
       "\n",
       "    .dataframe thead th {\n",
       "        text-align: right;\n",
       "    }\n",
       "</style>\n",
       "<table border=\"1\" class=\"dataframe\">\n",
       "  <thead>\n",
       "    <tr style=\"text-align: right;\">\n",
       "      <th></th>\n",
       "      <th>MPG</th>\n",
       "      <th>Cylinders</th>\n",
       "      <th>Displacement</th>\n",
       "      <th>Horsepower</th>\n",
       "      <th>Weight</th>\n",
       "      <th>Acceleration</th>\n",
       "      <th>Origin</th>\n",
       "      <th>age</th>\n",
       "    </tr>\n",
       "  </thead>\n",
       "  <tbody>\n",
       "    <tr>\n",
       "      <th>0</th>\n",
       "      <td>18.000000</td>\n",
       "      <td>8</td>\n",
       "      <td>307.0</td>\n",
       "      <td>130</td>\n",
       "      <td>3504</td>\n",
       "      <td>307.0</td>\n",
       "      <td>US</td>\n",
       "      <td>49</td>\n",
       "    </tr>\n",
       "    <tr>\n",
       "      <th>1</th>\n",
       "      <td>16.000000</td>\n",
       "      <td>8</td>\n",
       "      <td>304.0</td>\n",
       "      <td>150</td>\n",
       "      <td>3433</td>\n",
       "      <td>304.0</td>\n",
       "      <td>US</td>\n",
       "      <td>49</td>\n",
       "    </tr>\n",
       "    <tr>\n",
       "      <th>2</th>\n",
       "      <td>17.000000</td>\n",
       "      <td>8</td>\n",
       "      <td>302.0</td>\n",
       "      <td>140</td>\n",
       "      <td>3449</td>\n",
       "      <td>302.0</td>\n",
       "      <td>US</td>\n",
       "      <td>49</td>\n",
       "    </tr>\n",
       "    <tr>\n",
       "      <th>3</th>\n",
       "      <td>14.000000</td>\n",
       "      <td>8</td>\n",
       "      <td>454.0</td>\n",
       "      <td>220</td>\n",
       "      <td>4354</td>\n",
       "      <td>454.0</td>\n",
       "      <td>US</td>\n",
       "      <td>49</td>\n",
       "    </tr>\n",
       "    <tr>\n",
       "      <th>4</th>\n",
       "      <td>23.551429</td>\n",
       "      <td>8</td>\n",
       "      <td>440.0</td>\n",
       "      <td>215</td>\n",
       "      <td>4312</td>\n",
       "      <td>440.0</td>\n",
       "      <td>US</td>\n",
       "      <td>49</td>\n",
       "    </tr>\n",
       "    <tr>\n",
       "      <th>5</th>\n",
       "      <td>14.000000</td>\n",
       "      <td>8</td>\n",
       "      <td>455.0</td>\n",
       "      <td>225</td>\n",
       "      <td>4425</td>\n",
       "      <td>455.0</td>\n",
       "      <td>US</td>\n",
       "      <td>49</td>\n",
       "    </tr>\n",
       "    <tr>\n",
       "      <th>6</th>\n",
       "      <td>15.000000</td>\n",
       "      <td>8</td>\n",
       "      <td>390.0</td>\n",
       "      <td>190</td>\n",
       "      <td>3850</td>\n",
       "      <td>390.0</td>\n",
       "      <td>US</td>\n",
       "      <td>49</td>\n",
       "    </tr>\n",
       "    <tr>\n",
       "      <th>7</th>\n",
       "      <td>15.000000</td>\n",
       "      <td>8</td>\n",
       "      <td>383.0</td>\n",
       "      <td>170</td>\n",
       "      <td>3563</td>\n",
       "      <td>383.0</td>\n",
       "      <td>US</td>\n",
       "      <td>49</td>\n",
       "    </tr>\n",
       "    <tr>\n",
       "      <th>8</th>\n",
       "      <td>14.000000</td>\n",
       "      <td>5</td>\n",
       "      <td>340.0</td>\n",
       "      <td>160</td>\n",
       "      <td>3609</td>\n",
       "      <td>340.0</td>\n",
       "      <td>US</td>\n",
       "      <td>49</td>\n",
       "    </tr>\n",
       "    <tr>\n",
       "      <th>9</th>\n",
       "      <td>23.551429</td>\n",
       "      <td>8</td>\n",
       "      <td>400.0</td>\n",
       "      <td>150</td>\n",
       "      <td>3761</td>\n",
       "      <td>400.0</td>\n",
       "      <td>US</td>\n",
       "      <td>49</td>\n",
       "    </tr>\n",
       "  </tbody>\n",
       "</table>\n",
       "</div>"
      ],
      "text/plain": [
       "         MPG  Cylinders  Displacement  Horsepower  Weight  Acceleration  \\\n",
       "0  18.000000          8         307.0         130    3504         307.0   \n",
       "1  16.000000          8         304.0         150    3433         304.0   \n",
       "2  17.000000          8         302.0         140    3449         302.0   \n",
       "3  14.000000          8         454.0         220    4354         454.0   \n",
       "4  23.551429          8         440.0         215    4312         440.0   \n",
       "5  14.000000          8         455.0         225    4425         455.0   \n",
       "6  15.000000          8         390.0         190    3850         390.0   \n",
       "7  15.000000          8         383.0         170    3563         383.0   \n",
       "8  14.000000          5         340.0         160    3609         340.0   \n",
       "9  23.551429          8         400.0         150    3761         400.0   \n",
       "\n",
       "  Origin  age  \n",
       "0     US   49  \n",
       "1     US   49  \n",
       "2     US   49  \n",
       "3     US   49  \n",
       "4     US   49  \n",
       "5     US   49  \n",
       "6     US   49  \n",
       "7     US   49  \n",
       "8     US   49  \n",
       "9     US   49  "
      ]
     },
     "execution_count": 24,
     "metadata": {},
     "output_type": "execute_result"
    }
   ],
   "source": [
    "automobile = pd.read_csv('datasets/auto_mpg_processed.csv')\n",
    "automobile.head(10)"
   ]
  },
  {
   "cell_type": "code",
   "execution_count": 26,
   "id": "214e2624",
   "metadata": {},
   "outputs": [],
   "source": [
    "X = automobile[['Horsepower']]\n",
    "Y = automobile[['MPG']]"
   ]
  },
  {
   "cell_type": "code",
   "execution_count": 60,
   "id": "b66dc941",
   "metadata": {},
   "outputs": [],
   "source": [
    "from sklearn.model_selection import train_test_split\n",
    "from sklearn.linear_model import LinearRegression\n",
    "from sklearn.metrics import r2_score"
   ]
  },
  {
   "cell_type": "code",
   "execution_count": 59,
   "id": "f6738f69",
   "metadata": {},
   "outputs": [
    {
     "data": {
      "text/plain": [
       "array([[28.14496405],\n",
       "       [22.7020866 ],\n",
       "       [21.79494036],\n",
       "       [24.81876117],\n",
       "       [31.47116694],\n",
       "       [30.5640207 ],\n",
       "       [25.72590741],\n",
       "       [10.15323026],\n",
       "       [28.74972821],\n",
       "       [20.88779412],\n",
       "       [29.50568341],\n",
       "       [14.08419731],\n",
       "       [16.65444499],\n",
       "       [29.20330133],\n",
       "       [22.7020866 ],\n",
       "       [10.60680338],\n",
       "       [12.11871379],\n",
       "       [31.16878486],\n",
       "       [24.66757013],\n",
       "       [18.1663554 ],\n",
       "       [18.31754644],\n",
       "       [ 6.07107218],\n",
       "       [27.23781781],\n",
       "       [26.02828949],\n",
       "       [26.02828949],\n",
       "       [16.65444499],\n",
       "       [28.59853717],\n",
       "       [28.74972821],\n",
       "       [24.96995221],\n",
       "       [24.66757013],\n",
       "       [25.72590741],\n",
       "       [18.1663554 ],\n",
       "       [17.4104002 ],\n",
       "       [19.82945684],\n",
       "       [30.26163862],\n",
       "       [ 7.88536466],\n",
       "       [26.78424469],\n",
       "       [25.72590741],\n",
       "       [28.44734613],\n",
       "       [25.72590741],\n",
       "       [18.1663554 ],\n",
       "       [29.8080655 ],\n",
       "       [25.72590741],\n",
       "       [28.74972821],\n",
       "       [22.7020866 ],\n",
       "       [26.63305365],\n",
       "       [26.63305365],\n",
       "       [19.82945684],\n",
       "       [31.3199759 ],\n",
       "       [27.54019989],\n",
       "       [26.02828949],\n",
       "       [27.54019989],\n",
       "       [12.87466899],\n",
       "       [ 9.09489298],\n",
       "       [21.1901762 ],\n",
       "       [25.72590741],\n",
       "       [30.26163862],\n",
       "       [27.23781781],\n",
       "       [26.02828949],\n",
       "       [16.65444499],\n",
       "       [26.48186261],\n",
       "       [32.37831318],\n",
       "       [20.434221  ],\n",
       "       [28.74972821],\n",
       "       [26.02828949],\n",
       "       [29.95925654],\n",
       "       [29.20330133],\n",
       "       [30.26163862],\n",
       "       [16.65444499],\n",
       "       [25.57471637],\n",
       "       [29.05211029],\n",
       "       [14.38657939],\n",
       "       [16.65444499],\n",
       "       [16.65444499],\n",
       "       [26.02828949],\n",
       "       [26.02828949],\n",
       "       [24.21399701],\n",
       "       [17.4104002 ]])"
      ]
     },
     "execution_count": 59,
     "metadata": {},
     "output_type": "execute_result"
    }
   ],
   "source": [
    "x_train,x_test,y_train,y_test = train_test_split(X,Y,test_size=0.2)\n",
    "model = LinearRegression().fit(x_train,y_train)\n",
    "y_pred = model.predict(x_test)\n",
    "y_pred"
   ]
  },
  {
   "cell_type": "code",
   "execution_count": 62,
   "id": "a8213cd0",
   "metadata": {},
   "outputs": [
    {
     "name": "stdout",
     "output_type": "stream",
     "text": [
      "r2 score:  0.6595817908148651\n"
     ]
    }
   ],
   "source": [
    "print('r2 score: ', r2_score(y_test,y_pred))"
   ]
  },
  {
   "cell_type": "code",
   "execution_count": 64,
   "id": "61d22ae5",
   "metadata": {},
   "outputs": [
    {
     "data": {
      "image/png": "[encoded data removed]",
      "text/plain": [
       "<Figure size 720x504 with 1 Axes>"
      ]
     },
     "metadata": {
      "needs_background": "light"
     },
     "output_type": "display_data"
    }
   ],
   "source": [
    "import matplotlib.pyplot as plt\n",
    "plt.figure(figsize=(10,7))\n",
    "plt.plot(x_train,y_train, 'o',c='y')\n",
    "plt.plot(x_test,y_pred,linewidth=2, color='green',linestyle='-', label='linear regression')\n",
    "plt.show()"
   ]
  },
  {
   "cell_type": "code",
   "execution_count": 77,
   "id": "261c6701",
   "metadata": {},
   "outputs": [
    {
     "name": "stdout",
     "output_type": "stream",
     "text": [
      "r2 score:  0.7204592364662923\n"
     ]
    }
   ],
   "source": [
    "encoder = KBinsDiscretizer(n_bins=20, encode='ordinal')\n",
    "x_binned = encoder.fit_transform(x_train)\n",
    "x_test_binned = encoder.transform(x_test)\n",
    "model = LinearRegression().fit(x_binned,y_train)\n",
    "y_pred = model.predict(x_test_binned)\n",
    "print('r2 score: ', r2_score(y_test,y_pred))"
   ]
  }
 ],
 "metadata": {
  "kernelspec": {
   "display_name": "Python 3",
   "language": "python",
   "name": "python3"
  },
  "language_info": {
   "codemirror_mode": {
    "name": "ipython",
    "version": 3
   },
   "file_extension": ".py",
   "mimetype": "text/x-python",
   "name": "python",
   "nbconvert_exporter": "python",
   "pygments_lexer": "ipython3",
   "version": "3.8.8"
  }
 },
 "nbformat": 4,
 "nbformat_minor": 5
}
